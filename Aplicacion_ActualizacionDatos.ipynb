{
 "cells": [
  {
   "cell_type": "code",
   "execution_count": 35,
   "id": "c10ada8a-6a7f-4e09-8614-f28013db1df8",
   "metadata": {},
   "outputs": [
    {
     "name": "stdin",
     "output_type": "stream",
     "text": [
      "Ingrese ticker a pedir: AAPL\n",
      "Ingrese fecha de inicio (en formato AAAA-mm-dd): 2023-01-01\n",
      "Ingrese fecha de fin (en formato AAAA-mm-dd): 2023-01-05\n"
     ]
    },
    {
     "name": "stdout",
     "output_type": "stream",
     "text": [
      "Pidiendo datos...\n",
      "{'ticker': 'AAPL', 'queryCount': 3, 'resultsCount': 3, 'adjusted': True, 'results': [{'v': 112117471.0, 'vw': 125.725, 'o': 130.28, 'c': 125.07, 'h': 130.9, 'l': 124.17, 't': 1672722000000, 'n': 1021065}, {'v': 89100633.0, 'vw': 126.6464, 'o': 126.89, 'c': 126.36, 'h': 128.6557, 'l': 125.08, 't': 1672808400000, 'n': 770042}, {'v': 80716808.0, 'vw': 126.0883, 'o': 127.13, 'c': 125.02, 'h': 127.77, 'l': 124.76, 't': 1672894800000, 'n': 665458}], 'status': 'OK', 'request_id': '587ed4dbd7800a4e0f3a655b55c7af96', 'count': 3}\n",
      "Datos guardados correctamente\n"
     ]
    }
   ],
   "source": [
    "# Importamos las librerías con las que estaré trabajando\n",
    "import requests\n",
    "import json\n",
    "import sqlite3\n",
    "from datetime import datetime\n",
    "\n",
    "# Indicamos la función de input para conocer qué stock se quiere solicitar\n",
    "stock = input(\"Ingrese ticker a pedir:\")\n",
    "stock_inicio =  input (\"Ingrese fecha de inicio (en formato AAAA-mm-dd):\")\n",
    "stock_fin =  input (\"Ingrese fecha de fin (en formato AAAA-mm-dd):\")\n",
    "print(\"Pidiendo datos...\")\n",
    "\n",
    "# Realizamos una solicitud a la API de https://api.polygon.io para obtener los datos de los activos que me interesan actualizar. Para ello armo una lista, que de ser necesario sumar otro stock, lo debería actualizar aquí.\n",
    "url = f'https://api.polygon.io/v2/aggs/ticker/{stock}/range/1/day/{stock_inicio}/{stock_fin}'\n",
    "params = {'apiKey': 'yDi5vVBSp38kzp_CwZle07pn_1komWBy'}\n",
    "response = requests.get(url, params)\n",
    "data = json.loads(response.text)\n",
    "\n",
    "# Creamos una conexión con base de datos creada para almacenar historia desde el 01/01/2022\n",
    "con = sqlite3.connect('MisInversiones.db')\n",
    "\n",
    "# Creamos el curso para interactuar con los datos\n",
    "cursor = con.cursor()\n",
    "\n",
    "# Convertimo el timestamp de la API en un formato de fecha compatible con SQL de manera de poder almacenarlo\n",
    "from datetime import datetime\n",
    "for d in data[\"results\"]:\n",
    "    timestamp = d[\"t\"]\n",
    "    date_object = datetime.fromtimestamp(timestamp/1000)\n",
    "    fecha = date_object.strftime('%Y-%m-%d')\n",
    "    cursor.execute('''\n",
    "    INSERT INTO Stocks(stock, volumen, precio_promedio, precio_apertura, precio_cierre, precio_maximo, precio_minimo, timestamp, fecha)\n",
    "    VALUES (?, ?, ?, ?, ?, ?, ?, ?, ?)''',(stock, d['v'], d['vw'], d['o'], d['c'], d['h'], d['l'], d['t'], fecha)\n",
    "    )\n",
    "print(\"Datos guardados correctamente\")\n",
    "# Adicionalmente me pareció más prolijo en esta instancia mostrar los registros insertados, en miras de validar que la consulta y respuesta fueron correctas.\n",
    "print(\"Estos fueron los registros ingresados\")\n",
    "# Ejecutamos una consulta SELECT a SQL de los registros ingresados\n",
    "cursor.execute(f\"SELECT * FROM Stocks WHERE stock='{stock}' and fecha>='{stock_inicio}' and fecha<='{stock_fin}'\")\n",
    "# Obtenemos los resultados\n",
    "resultados = cursor.fetchall()\n",
    "# Imprimimos los resultados\n",
    "for resultado in resultados:\n",
    "    print(resultado)\n",
    "# Comitimos a la base de datos y cerramos la conexión\n",
    "con.commit()\n",
    "con.close()\n"
   ]
  }
 ],
 "metadata": {
  "kernelspec": {
   "display_name": "Python 3 (ipykernel)",
   "language": "python",
   "name": "python3"
  },
  "language_info": {
   "codemirror_mode": {
    "name": "ipython",
    "version": 3
   },
   "file_extension": ".py",
   "mimetype": "text/x-python",
   "name": "python",
   "nbconvert_exporter": "python",
   "pygments_lexer": "ipython3",
   "version": "3.10.9"
  }
 },
 "nbformat": 4,
 "nbformat_minor": 5
}
